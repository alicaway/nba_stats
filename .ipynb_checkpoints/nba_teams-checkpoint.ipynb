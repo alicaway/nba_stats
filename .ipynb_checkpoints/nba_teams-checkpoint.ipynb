{
 "cells": [
  {
   "cell_type": "code",
   "execution_count": 25,
   "id": "f06184f4-1557-4eba-8fcb-f9c56b75a754",
   "metadata": {},
   "outputs": [],
   "source": [
    "# Import the libraries\n",
    "import numpy as np\n",
    "import pandas as pd\n",
    "import random\n",
    "import time\n",
    "from unidecode import unidecode"
   ]
  },
  {
   "cell_type": "code",
   "execution_count": 47,
   "id": "f904c4eb-1794-481c-b3bd-e01730d6e540",
   "metadata": {},
   "outputs": [],
   "source": [
    "# Create list of team codes\n",
    "teams = [\n",
    "    'atl', 'bos', 'brk', 'cho', 'chi', 'cle', 'dal', 'den', 'det', 'gsw',\n",
    "    'hou', 'ind', 'lac', 'lal', 'mem', 'mia', 'mil', 'min', 'nop', 'nyk',\n",
    "    'okc', 'orl', 'phi', 'pho', 'por', 'sac', 'sas', 'tor', 'uta', 'was'\n",
    "]"
   ]
  },
  {
   "cell_type": "code",
   "execution_count": 49,
   "id": "acc87016-6580-4eef-9e62-f64ce372065a",
   "metadata": {},
   "outputs": [
    {
     "data": {
      "text/plain": [
       "1"
      ]
     },
     "execution_count": 49,
     "metadata": {},
     "output_type": "execute_result"
    }
   ],
   "source": [
    "# Create the list of years (seasons)\n",
    "# seasons = ['2014', '2015', '2016', '2017', '2018', '2019', '2020', '2021', '2022', '2023']\n",
    "seasons = ['2024']\n",
    "len(seasons)"
   ]
  },
  {
   "cell_type": "code",
   "execution_count": 51,
   "id": "3cfe1b88-7e7a-4886-99ce-90eba7f07a32",
   "metadata": {},
   "outputs": [],
   "source": [
    "# Create the list of stats\n",
    "stats = [\n",
    "    'FG', 'FGA', 'FG%',\n",
    "    '3P', '3PA', '3P%',\n",
    "    'FT', 'FTA', 'FT%',\n",
    "    'ORB', 'TRB', 'AST',\n",
    "    'STL', 'BLK', 'TOV', 'PF'\n",
    "]"
   ]
  },
  {
   "cell_type": "code",
   "execution_count": 52,
   "id": "f5868431-e3a4-47cb-89a7-fdbcacd86514",
   "metadata": {},
   "outputs": [],
   "source": [
    "# Create the team stats dictionary\n",
    "tm_stats_dict = {stat: 'Tm_' + str(stat) for stat in stats}\n",
    "\n",
    "# Create the opponent stats dictionary\n",
    "opp_stats_dict = {stat + '.1': 'Opp_' + str(stat) for stat in stats}"
   ]
  },
  {
   "cell_type": "code",
   "execution_count": 53,
   "id": "c8b47115-be8b-4ccb-87d2-43b383a13d96",
   "metadata": {},
   "outputs": [
    {
     "name": "stdout",
     "output_type": "stream",
     "text": [
      "https://www.basketball-reference.com/teams/atl/2023/gamelog/\n",
      "https://www.basketball-reference.com/teams/bos/2023/gamelog/\n",
      "https://www.basketball-reference.com/teams/brk/2023/gamelog/\n",
      "https://www.basketball-reference.com/teams/cho/2023/gamelog/\n",
      "https://www.basketball-reference.com/teams/chi/2023/gamelog/\n",
      "https://www.basketball-reference.com/teams/cle/2023/gamelog/\n",
      "https://www.basketball-reference.com/teams/dal/2023/gamelog/\n",
      "https://www.basketball-reference.com/teams/den/2023/gamelog/\n",
      "https://www.basketball-reference.com/teams/det/2023/gamelog/\n",
      "https://www.basketball-reference.com/teams/gsw/2023/gamelog/\n",
      "https://www.basketball-reference.com/teams/hou/2023/gamelog/\n",
      "https://www.basketball-reference.com/teams/ind/2023/gamelog/\n",
      "https://www.basketball-reference.com/teams/lac/2023/gamelog/\n",
      "https://www.basketball-reference.com/teams/lal/2023/gamelog/\n",
      "https://www.basketball-reference.com/teams/mem/2023/gamelog/\n",
      "https://www.basketball-reference.com/teams/mia/2023/gamelog/\n",
      "https://www.basketball-reference.com/teams/mil/2023/gamelog/\n",
      "https://www.basketball-reference.com/teams/min/2023/gamelog/\n",
      "https://www.basketball-reference.com/teams/nop/2023/gamelog/\n",
      "https://www.basketball-reference.com/teams/nyk/2023/gamelog/\n",
      "https://www.basketball-reference.com/teams/okc/2023/gamelog/\n",
      "https://www.basketball-reference.com/teams/orl/2023/gamelog/\n",
      "https://www.basketball-reference.com/teams/phi/2023/gamelog/\n",
      "https://www.basketball-reference.com/teams/pho/2023/gamelog/\n",
      "https://www.basketball-reference.com/teams/por/2023/gamelog/\n",
      "https://www.basketball-reference.com/teams/sac/2023/gamelog/\n",
      "https://www.basketball-reference.com/teams/sas/2023/gamelog/\n",
      "https://www.basketball-reference.com/teams/tor/2023/gamelog/\n",
      "https://www.basketball-reference.com/teams/uta/2023/gamelog/\n",
      "https://www.basketball-reference.com/teams/was/2023/gamelog/\n"
     ]
    }
   ],
   "source": [
    "# Create an empty dataframe to append\n",
    "nba_df = pd.DataFrame()\n",
    "\n",
    "# Iterate through the seasons\n",
    "for season in seasons:\n",
    "\n",
    "    # Iterate through the teams\n",
    "    for team in teams:\n",
    "\n",
    "        # Set the URL\n",
    "        url = 'https://www.basketball-reference.com/teams/' + team + '/' + season + '/gamelog/'\n",
    "        print(url)\n",
    "\n",
    "        # Get game stats from 'tgl_basic' table (this is the scraping statement)\n",
    "        team_df = pd.read_html(url, header=1, attrs={'id':'tgl_basic'})[0]\n",
    "\n",
    "        # Drop rows where 'Rk' is null or where 'Rk' is equal to 'Rk'\n",
    "        team_df = team_df[(team_df['Rk'].str != '') & (team_df['Rk'].str.isnumeric())]\n",
    "\n",
    "        # Drop the blank column\n",
    "        team_df = team_df.drop(columns=['Rk', 'Unnamed: 24'])\n",
    "\n",
    "        # Rename a column\n",
    "        team_df = team_df.rename(columns={'Unnamed: 3':'Home', 'Tm':'Tm_Pts', 'Opp.1':'Opp_Pts'})\n",
    "        team_df = team_df.rename(columns=tm_stats_dict)\n",
    "        team_df = team_df.rename(columns=opp_stats_dict)\n",
    "\n",
    "        # Replace values in columns 'Home' and 'Opp' of team_df\n",
    "        team_df['Home'] = team_df['Home'].apply(lambda x: 0 if x == '@' else 1)\n",
    "\n",
    "        # Add two columns to the front of team_df\n",
    "        team_df.insert(loc=0, column='Season', value=season)\n",
    "        team_df.insert(loc=1, column='Team', value=team.upper())\n",
    "\n",
    "        # Append the current year and team gamelogs to the aggregate dataframe\n",
    "        nba_df = pd.concat([nba_df, team_df], ignore_index=True)\n",
    "\n",
    "        # Pause program to abide by basketball-reference.com rules\n",
    "        time.sleep(random.randint(4, 6))\n",
    "\n",
    "# Display the aggregate dataframe\n",
    "# print(nba_df)"
   ]
  },
  {
   "cell_type": "code",
   "execution_count": 54,
   "id": "be9b6cb7-0771-4970-915c-7fa6ad3b1d35",
   "metadata": {},
   "outputs": [
    {
     "name": "stdout",
     "output_type": "stream",
     "text": [
      "     Season Team   G        Date  Home  Opp W/L Tm_Pts Opp_Pts Tm_FG  ...  \\\n",
      "0      2023  ATL   1  2022-10-19     1  HOU   W    117     107    45  ...   \n",
      "1      2023  ATL   2  2022-10-21     1  ORL   W    108      98    40  ...   \n",
      "2      2023  ATL   3  2022-10-23     1  CHO   L    109     126    39  ...   \n",
      "3      2023  ATL   4  2022-10-26     0  DET   W    118     113    45  ...   \n",
      "4      2023  ATL   5  2022-10-28     0  DET   W    136     112    55  ...   \n",
      "...     ...  ...  ..         ...   ...  ...  ..    ...     ...   ...  ...   \n",
      "2455   2023  WAS  78  2023-04-02     0  NYK   L    109     118    39  ...   \n",
      "2456   2023  WAS  79  2023-04-04     1  MIL   L    128     140    50  ...   \n",
      "2457   2023  WAS  80  2023-04-05     0  ATL   L    116     134    45  ...   \n",
      "2458   2023  WAS  81  2023-04-07     1  MIA   W    114     108    39  ...   \n",
      "2459   2023  WAS  82  2023-04-09     1  HOU   L    109     114    41  ...   \n",
      "\n",
      "     Opp_FT Opp_FTA Opp_FT% Opp_ORB Opp_TRB Opp_AST Opp_STL Opp_BLK Opp_TOV  \\\n",
      "0        14      15    .933      15      54      25       4       3      16   \n",
      "1        24      30    .800      10      44      16       9       7      19   \n",
      "2        21      30    .700      14      52      28       7       6      14   \n",
      "3        15      22    .682      10      40      23       4       6      14   \n",
      "4        31      38    .816      14      42      18       2       4      11   \n",
      "...     ...     ...     ...     ...     ...     ...     ...     ...     ...   \n",
      "2455     13      18    .722       7      39      31      12       4      12   \n",
      "2456     17      29    .586      12      56      33       6       7      18   \n",
      "2457     35      40    .875      12      48      30      10       5      17   \n",
      "2458      7      12    .583      14      47      26       7       4      16   \n",
      "2459     20      28    .714      13      51      24       8       6      15   \n",
      "\n",
      "     Opp_PF  \n",
      "0        20  \n",
      "1        19  \n",
      "2        24  \n",
      "3        25  \n",
      "4        22  \n",
      "...     ...  \n",
      "2455     17  \n",
      "2456     19  \n",
      "2457     23  \n",
      "2458     29  \n",
      "2459     15  \n",
      "\n",
      "[2460 rows x 41 columns]\n"
     ]
    }
   ],
   "source": [
    "print(nba_df)"
   ]
  },
  {
   "cell_type": "code",
   "execution_count": 63,
   "id": "b7bf3db6-aff4-40d4-a530-43b3f4b8fc60",
   "metadata": {},
   "outputs": [],
   "source": [
    "# Export to a CSV File\n",
    "nba_df.to_csv('nba_gamelogs_2024.csv', index=False)"
   ]
  },
  {
   "cell_type": "code",
   "execution_count": 65,
   "id": "a888b47a-7bf4-46fc-9e48-2f25edb72fbe",
   "metadata": {},
   "outputs": [
    {
     "data": {
      "text/plain": [
       "'\\nReferences\\n[1] data: https://www.youtube.com/watch?v=pZBcBrOxCVQ\\n'"
      ]
     },
     "execution_count": 65,
     "metadata": {},
     "output_type": "execute_result"
    }
   ],
   "source": [
    "\"\"\"\n",
    "References\n",
    "[1] data: https://www.youtube.com/watch?v=pZBcBrOxCVQ\n",
    "\"\"\""
   ]
  }
 ],
 "metadata": {
  "kernelspec": {
   "display_name": "Python 3 (ipykernel)",
   "language": "python",
   "name": "python3"
  },
  "language_info": {
   "codemirror_mode": {
    "name": "ipython",
    "version": 3
   },
   "file_extension": ".py",
   "mimetype": "text/x-python",
   "name": "python",
   "nbconvert_exporter": "python",
   "pygments_lexer": "ipython3",
   "version": "3.12.4"
  }
 },
 "nbformat": 4,
 "nbformat_minor": 5
}
